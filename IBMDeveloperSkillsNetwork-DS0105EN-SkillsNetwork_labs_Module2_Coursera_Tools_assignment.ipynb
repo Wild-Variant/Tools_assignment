{
  "metadata": {
    "kernelspec": {
      "name": "python",
      "display_name": "Pyolite",
      "language": "python"
    },
    "language_info": {
      "codemirror_mode": {
        "name": "python",
        "version": 3
      },
      "file_extension": ".py",
      "mimetype": "text/x-python",
      "name": "python",
      "nbconvert_exporter": "python",
      "pygments_lexer": "ipython3",
      "version": "3.8"
    }
  },
  "nbformat_minor": 4,
  "nbformat": 4,
  "cells": [
    {
      "cell_type": "markdown",
      "source": "<center>\n    <img src=\"https://cf-courses-data.s3.us.cloud-object-storage.appdomain.cloud/IBMDeveloperSkillsNetwork-DS0105EN-SkillsNetwork/labs/Module2/images/SN_web_lightmode.png\" width=\"300\" alt=\"cognitiveclass.ai logo\"  />\n</center>\n",
      "metadata": {}
    },
    {
      "cell_type": "markdown",
      "source": "# My jupyter notebook\n",
      "metadata": {}
    },
    {
      "cell_type": "markdown",
      "source": "__Venkata Naga Sri Bilwesh Avvari__\n",
      "metadata": {}
    },
    {
      "cell_type": "markdown",
      "source": "*I am intrested in Data Science because it is intresting as how knowledge of math, computers and statistics can almost permeate into almost all fields to improve the efficiency of system*\n",
      "metadata": {}
    },
    {
      "cell_type": "markdown",
      "source": "### The below code displays the natural number form 1 to 10 ###",
      "metadata": {}
    },
    {
      "cell_type": "code",
      "source": "for i in range(1,11):\n    print(i)",
      "metadata": {},
      "execution_count": 4,
      "outputs": [
        {
          "name": "stdout",
          "output_type": "stream",
          "text": "1\n\n2\n\n3\n\n4\n\n5\n\n6\n\n7\n\n8\n\n9\n\n10\n"
        }
      ]
    },
    {
      "cell_type": "markdown",
      "source": "* This is the link to <a href=\"www.google.co.in\"> Google </a>\n* This not the link to ``` Google ``` <a href=\"www.gmail.com\"> ~Google~ </a>",
      "metadata": {}
    }
  ]
}